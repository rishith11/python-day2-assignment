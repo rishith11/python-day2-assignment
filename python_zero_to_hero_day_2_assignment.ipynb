{
  "nbformat": 4,
  "nbformat_minor": 0,
  "metadata": {
    "colab": {
      "name": "python zero to hero day 2 assignment.ipynb",
      "provenance": []
    },
    "kernelspec": {
      "name": "python3",
      "display_name": "Python 3"
    },
    "language_info": {
      "name": "python"
    }
  },
  "cells": [
    {
      "cell_type": "code",
      "metadata": {
        "colab": {
          "base_uri": "https://localhost:8080/"
        },
        "id": "nlL2CajSJv9c",
        "outputId": "f5f7f8c6-b003-4b98-b969-e48f1f48050f"
      },
      "source": [
        "st=input(\"Enter the string\")\n",
        "for i in range (len(st)):\n",
        "  if len(st) == 0:\n",
        "    break\n",
        "  ch=st[0]\n",
        "  if ch ==' ' or ch =='\\t':\n",
        "    continue\n",
        "  count = 1\n",
        "  for j in range (1, len(st)):\n",
        "    if ch == st[j]:\n",
        "      count+=1\n",
        "  st = st.replace(ch, '').strip()\n",
        "  print(ch + \"-\" ,count)"
      ],
      "execution_count": 2,
      "outputs": [
        {
          "output_type": "stream",
          "text": [
            "Enter the stringhello\n",
            "h- 1\n",
            "e- 1\n",
            "l- 2\n",
            "o- 1\n"
          ],
          "name": "stdout"
        }
      ]
    },
    {
      "cell_type": "code",
      "metadata": {
        "id": "Bzqt6VfHLB0K"
      },
      "source": [
        ""
      ],
      "execution_count": null,
      "outputs": []
    }
  ]
}